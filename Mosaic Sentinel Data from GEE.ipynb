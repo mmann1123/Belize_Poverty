{
 "cells": [
  {
   "cell_type": "code",
   "execution_count": 1,
   "metadata": {},
   "outputs": [],
   "source": [
    "#https://automating-gis-processes.github.io/CSC18/lessons/L6/raster-mosaic.html\n",
    "import rasterio\n",
    "from rasterio.merge import merge\n",
    "from rasterio.plot import show\n",
    "import glob\n",
    "import os"
   ]
  },
  {
   "cell_type": "markdown",
   "metadata": {},
   "source": [
    "Get file names\n"
   ]
  },
  {
   "cell_type": "code",
   "execution_count": 2,
   "metadata": {},
   "outputs": [
    {
     "name": "stdout",
     "output_type": "stream",
     "text": [
      "../Data/GEE/SL_mos*.tif\n"
     ]
    },
    {
     "data": {
      "text/plain": [
       "['../Data/GEE\\\\SL_mosaic_2017_NDVI_Stats-0000000000-0000000000.tif',\n",
       " '../Data/GEE\\\\SL_mosaic_2017_NDVI_Stats-0000000000-0000010496.tif',\n",
       " '../Data/GEE\\\\SL_mosaic_2017_NDVI_Stats-0000000000-0000020992.tif',\n",
       " '../Data/GEE\\\\SL_mosaic_2017_NDVI_Stats-0000000000-0000031488.tif',\n",
       " '../Data/GEE\\\\SL_mosaic_2017_NDVI_Stats-0000000000-0000041984.tif',\n",
       " '../Data/GEE\\\\SL_mosaic_2017_NDVI_Stats-0000000000-0000052480.tif',\n",
       " '../Data/GEE\\\\SL_mosaic_2017_NDVI_Stats-0000000000-0000062976.tif',\n",
       " '../Data/GEE\\\\SL_mosaic_2017_NDVI_Stats-0000000000-0000073472.tif',\n",
       " '../Data/GEE\\\\SL_mosaic_2017_NDVI_Stats-0000000000-0000083968.tif',\n",
       " '../Data/GEE\\\\SL_mosaic_2017_NDVI_Stats-0000010496-0000000000.tif',\n",
       " '../Data/GEE\\\\SL_mosaic_2017_NDVI_Stats-0000010496-0000010496.tif',\n",
       " '../Data/GEE\\\\SL_mosaic_2017_NDVI_Stats-0000010496-0000020992.tif',\n",
       " '../Data/GEE\\\\SL_mosaic_2017_NDVI_Stats-0000010496-0000031488.tif',\n",
       " '../Data/GEE\\\\SL_mosaic_2017_NDVI_Stats-0000010496-0000041984.tif',\n",
       " '../Data/GEE\\\\SL_mosaic_2017_NDVI_Stats-0000010496-0000052480.tif',\n",
       " '../Data/GEE\\\\SL_mosaic_2017_NDVI_Stats-0000010496-0000062976.tif',\n",
       " '../Data/GEE\\\\SL_mosaic_2017_NDVI_Stats-0000010496-0000073472.tif',\n",
       " '../Data/GEE\\\\SL_mosaic_2017_NDVI_Stats-0000010496-0000083968.tif']"
      ]
     },
     "execution_count": 2,
     "metadata": {},
     "output_type": "execute_result"
    }
   ],
   "source": [
    "# File and folder paths\n",
    "dirpath = r\"../Data/GEE/\"\n",
    "\n",
    "# Make a search criteria to select the DEM files\n",
    "search_criteria = \"SL_mos*.tif\"\n",
    "\n",
    "q = os.path.join(dirpath, search_criteria)\n",
    "\n",
    "print(q)\n",
    "\n",
    "\n",
    "GEE = glob.glob(q)\n",
    "GEE"
   ]
  },
  {
   "cell_type": "markdown",
   "metadata": {},
   "source": [
    "Empty list for the datafiles that will be part of the mosaic. "
   ]
  },
  {
   "cell_type": "markdown",
   "metadata": {},
   "source": [
    "open all those files in read mode with raterio and add those files into a our source file list"
   ]
  },
  {
   "cell_type": "code",
   "execution_count": 3,
   "metadata": {},
   "outputs": [],
   "source": [
    "src_files_to_mosaic = []\n",
    "\n",
    "for fp in GEE:\n",
    "    src = rasterio.open(fp)\n",
    "    src_files_to_mosaic.append(src)\n",
    " "
   ]
  },
  {
   "cell_type": "code",
   "execution_count": 4,
   "metadata": {},
   "outputs": [
    {
     "data": {
      "text/plain": [
       "[1, 2, 3, 4, 5, 6, 7, 8, 9, 10]"
      ]
     },
     "execution_count": 4,
     "metadata": {},
     "output_type": "execute_result"
    }
   ],
   "source": [
    "list(src_files_to_mosaic[0].indexes)"
   ]
  },
  {
   "cell_type": "code",
   "execution_count": 5,
   "metadata": {},
   "outputs": [
    {
     "data": {
      "text/plain": [
       "{'driver': 'GTiff',\n",
       " 'dtype': 'float32',\n",
       " 'nodata': None,\n",
       " 'width': 9836,\n",
       " 'height': 1966,\n",
       " 'count': 10,\n",
       " 'crs': CRS({'init': 'epsg:4326'}),\n",
       " 'transform': Affine(8.983152841195215e-05, 0.0, -85.2254167926293,\n",
       "        0.0, -8.983152841195215e-05, 16.810802732427486)}"
      ]
     },
     "execution_count": 5,
     "metadata": {},
     "output_type": "execute_result"
    }
   ],
   "source": [
    "# Copy the metadata\n",
    "out_meta = src.meta.copy()\n",
    "\n",
    "out_meta"
   ]
  },
  {
   "cell_type": "markdown",
   "metadata": {},
   "source": [
    "Merge those together band by band and create a mosaic with rasterio’s merge function."
   ]
  },
  {
   "cell_type": "code",
   "execution_count": null,
   "metadata": {},
   "outputs": [
    {
     "name": "stdout",
     "output_type": "stream",
     "text": [
      "working on band1\n"
     ]
    }
   ],
   "source": [
    "\n",
    "# iterate through bands and write to file \n",
    "for band in list(src_files_to_mosaic[0].indexes):\n",
    "    print('working on band'+str(band))\n",
    "    \n",
    "    # mosaic tiles \n",
    "    mosaic, out_trans = merge(src_files_to_mosaic,indexes=band)\n",
    "    \n",
    "    # Update the metadata\n",
    "    out_meta.update({\"driver\": \"GTiff\",\n",
    "                  \"height\": mosaic.shape[1],\n",
    "                  \"width\": mosaic.shape[2],\n",
    "                  'count': 1,\n",
    "                  \"transform\": out_trans \n",
    "                  }  )\n",
    "    \n",
    "    # set destination\n",
    "    out_fp = r\"../Data/GEE/Sentinel_Mosaic_B\"+str(band)+\".tif\"\n",
    "    \n",
    "    # write \n",
    "    with rasterio.open(out_fp, \"w\", **out_meta) as dest:\n",
    "         dest.write(mosaic)"
   ]
  },
  {
   "cell_type": "code",
   "execution_count": null,
   "metadata": {},
   "outputs": [],
   "source": [
    "%matplotlib inline\n",
    "show(mosaic, cmap='terrain')"
   ]
  }
 ],
 "metadata": {
  "kernelspec": {
   "display_name": "Python [conda env:ts-rasterv2]",
   "language": "python",
   "name": "conda-env-ts-rasterv2-py"
  },
  "language_info": {
   "codemirror_mode": {
    "name": "ipython",
    "version": 3
   },
   "file_extension": ".py",
   "mimetype": "text/x-python",
   "name": "python",
   "nbconvert_exporter": "python",
   "pygments_lexer": "ipython3",
   "version": "3.6.7"
  }
 },
 "nbformat": 4,
 "nbformat_minor": 2
}
