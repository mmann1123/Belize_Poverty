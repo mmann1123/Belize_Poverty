{
 "cells": [
  {
   "cell_type": "code",
   "execution_count": 12,
   "metadata": {
    "collapsed": false,
    "deletable": true,
    "editable": true
   },
   "outputs": [
    {
     "name": "stdout",
     "output_type": "stream",
     "text": [
      "Cloning into 'geepy'...\n",
      "remote: Enumerating objects: 159, done.\u001b[K\n",
      "remote: Counting objects: 100% (159/159), done.\u001b[K\n",
      "remote: Compressing objects: 100% (83/83), done.\u001b[K\n",
      "remote: Total 159 (delta 75), reused 153 (delta 72), pack-reused 0\u001b[K\n",
      "Receiving objects: 100% (159/159), 1.31 MiB | 0 bytes/s, done.\n",
      "Resolving deltas: 100% (75/75), done.\n",
      "Checking connectivity... done.\n",
      "\u001b[33mDEPRECATION: Python 2.7 will reach the end of its life on January 1st, 2020. Please upgrade your Python as Python 2.7 won't be maintained after that date. A future version of pip will drop support for Python 2.7.\u001b[0m\n",
      "Processing ./geepy\n",
      "Requirement already satisfied: e in /usr/local/lib/python2.7/dist-packages (1.4.5)\n",
      "Requirement already satisfied: click>=7.0 in /usr/local/lib/python2.7/dist-packages (from geepy==0.1) (7.0)\n",
      "Building wheels for collected packages: geepy\n",
      "  Building wheel for geepy (setup.py) ... \u001b[?25l-\b \bdone\n",
      "\u001b[?25h  Stored in directory: /tmp/pip-ephem-wheel-cache-fTaLex/wheels/67/0d/d1/a6f286a3a72caeaeb9c9c9e87ad5c8346b4c7b9a2cf1b2248f\n",
      "Successfully built geepy\n",
      "Installing collected packages: geepy\n",
      "  Found existing installation: geepy 0.1\n",
      "    Uninstalling geepy-0.1:\n",
      "      Successfully uninstalled geepy-0.1\n",
      "Successfully installed geepy-0.1\n"
     ]
    }
   ],
   "source": [
    "!git clone https://github.com/adbeda/geepy\n",
    "#!cd ./geepy; pwd; git pull # to update\n",
    "!pip install e ./geepy/.\n",
    "#!pip install --upgrade pip\n",
    "#!pip install ee\n",
    "#!pip install fiona\n",
    "#!pip install Pyshp \n"
   ]
  },
  {
   "cell_type": "code",
   "execution_count": 14,
   "metadata": {
    "collapsed": false,
    "deletable": true,
    "editable": true
   },
   "outputs": [],
   "source": [
    "# check if you need to log back in if so, use docks-earthengine/authorize_notebook_server.ipynb\n",
    "import ee\n",
    "ee.Initialize()\n",
    " \n"
   ]
  },
  {
   "cell_type": "code",
   "execution_count": null,
   "metadata": {
    "collapsed": false,
    "deletable": true,
    "editable": true
   },
   "outputs": [
    {
     "name": "stdout",
     "output_type": "stream",
     "text": [
      "\n",
      " Total number of bands requested: 432\n",
      "\n",
      "submitted precipitation_20120101 for downloading\n",
      "submitted precipitation_20120106 for downloading\n",
      "submitted precipitation_20120111 for downloading\n",
      "submitted precipitation_20120116 for downloading\n",
      "submitted precipitation_20120121 for downloading\n",
      "submitted precipitation_20120126 for downloading\n",
      "submitted precipitation_20120201 for downloading\n",
      "submitted precipitation_20120206 for downloading\n",
      "submitted precipitation_20120211 for downloading\n",
      "submitted precipitation_20120216 for downloading\n",
      "submitted precipitation_20120221 for downloading\n",
      "submitted precipitation_20120226 for downloading\n",
      "submitted precipitation_20120301 for downloading\n",
      "submitted precipitation_20120306 for downloading\n",
      "submitted precipitation_20120311 for downloading\n",
      "submitted precipitation_20120316 for downloading\n",
      "submitted precipitation_20120321 for downloading\n",
      "submitted precipitation_20120326 for downloading\n",
      "submitted precipitation_20120401 for downloading\n",
      "submitted precipitation_20120406 for downloading\n",
      "submitted precipitation_20120411 for downloading\n",
      "submitted precipitation_20120416 for downloading\n",
      "submitted precipitation_20120421 for downloading\n",
      "submitted precipitation_20120426 for downloading\n",
      "submitted precipitation_20120501 for downloading\n",
      "submitted precipitation_20120506 for downloading\n",
      "submitted precipitation_20120511 for downloading\n",
      "submitted precipitation_20120516 for downloading\n",
      "submitted precipitation_20120521 for downloading\n",
      "submitted precipitation_20120526 for downloading\n",
      "submitted precipitation_20120601 for downloading\n",
      "submitted precipitation_20120606 for downloading\n",
      "submitted precipitation_20120611 for downloading\n",
      "submitted precipitation_20120616 for downloading\n",
      "submitted precipitation_20120621 for downloading\n",
      "submitted precipitation_20120626 for downloading\n",
      "submitted precipitation_20120701 for downloading\n",
      "submitted precipitation_20120706 for downloading\n",
      "submitted precipitation_20120711 for downloading\n",
      "submitted precipitation_20120716 for downloading\n",
      "submitted precipitation_20120721 for downloading\n",
      "submitted precipitation_20120726 for downloading\n",
      "submitted precipitation_20120801 for downloading\n",
      "submitted precipitation_20120806 for downloading\n",
      "submitted precipitation_20120811 for downloading\n",
      "submitted precipitation_20120816 for downloading\n",
      "submitted precipitation_20120821 for downloading\n",
      "submitted precipitation_20120826 for downloading\n",
      "submitted precipitation_20120901 for downloading\n",
      "submitted precipitation_20120906 for downloading\n",
      "submitted precipitation_20120911 for downloading\n",
      "submitted precipitation_20120916 for downloading\n",
      "submitted precipitation_20120921 for downloading\n",
      "submitted precipitation_20120926 for downloading\n",
      "submitted precipitation_20121001 for downloading\n",
      "submitted precipitation_20121006 for downloading\n",
      "submitted precipitation_20121011 for downloading\n",
      "submitted precipitation_20121016 for downloading\n",
      "submitted precipitation_20121021 for downloading\n",
      "submitted precipitation_20121026 for downloading\n",
      "submitted precipitation_20121101 for downloading\n",
      "submitted precipitation_20121106 for downloading\n",
      "submitted precipitation_20121111 for downloading\n",
      "submitted precipitation_20121116 for downloading\n",
      "submitted precipitation_20121121 for downloading\n",
      "submitted precipitation_20121126 for downloading\n",
      "submitted precipitation_20121201 for downloading\n",
      "submitted precipitation_20121206 for downloading\n",
      "submitted precipitation_20121211 for downloading\n",
      "submitted precipitation_20121216 for downloading\n"
     ]
    }
   ],
   "source": [
    "!geepy download-chirps -p 'UCSB-CHG/CHIRPS/PENTAD' -a 'shapes/gadm36_BLZ_0.shp' -sd '2012-01-01' -ed '2017-12-31'"
   ]
  },
  {
   "cell_type": "code",
   "execution_count": null,
   "metadata": {
    "collapsed": false,
    "deletable": true,
    "editable": true
   },
   "outputs": [],
   "source": [
    "!geepy download_modis -p 'MODIS/006/MOD13Q1' -a 'shapes/gadm36_BLZ_0.shp' -sd '2012-01-01' -ed '2017-12-31' -b 'NDVI' \n",
    "\n",
    " "
   ]
  }
 ],
 "metadata": {
  "kernelspec": {
   "display_name": "Python 2",
   "language": "python",
   "name": "python2"
  },
  "language_info": {
   "codemirror_mode": {
    "name": "ipython",
    "version": 2
   },
   "file_extension": ".py",
   "mimetype": "text/x-python",
   "name": "python",
   "nbconvert_exporter": "python",
   "pygments_lexer": "ipython2",
   "version": "2.7.12"
  }
 },
 "nbformat": 4,
 "nbformat_minor": 2
}
