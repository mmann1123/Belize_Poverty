{
 "cells": [
  {
   "cell_type": "code",
   "execution_count": 1,
   "metadata": {
    "collapsed": false,
    "deletable": true,
    "editable": true
   },
   "outputs": [
    {
     "name": "stdout",
     "output_type": "stream",
     "text": [
      "Processing c:\\users\\mmann\\workspace\\datalab-ee\\datalab\\notebooks\\geepy\n",
      "Collecting e\n",
      "Collecting click>=7.0 (from geepy==0.1)\n",
      "  Using cached https://files.pythonhosted.org/packages/fa/37/45185cb5abbc30d7257104c434fe0b07e5a195a6847506c074527aa599ec/Click-7.0-py2.py3-none-any.whl\n",
      "Building wheels for collected packages: geepy\n",
      "  Running setup.py bdist_wheel for geepy: started\n",
      "  Running setup.py bdist_wheel for geepy: finished with status 'done'\n",
      "  Stored in directory: c:\\users\\mmann\\appdata\\local\\temp\\pip-ephem-wheel-cache-dczs57\\wheels\\69\\fa\\3c\\e7edb8a6bc114625970b2fb54ebaae635556804eca08726373\n",
      "Successfully built geepy\n",
      "Installing collected packages: e, click, geepy\n",
      "  Found existing installation: click 6.7\n",
      "    Uninstalling click-6.7:\n",
      "      Successfully uninstalled click-6.7\n",
      "Successfully installed click-7.0 e-1.4.5 geepy-0.1\n"
     ]
    },
    {
     "name": "stderr",
     "output_type": "stream",
     "text": [
      "grin 1.2.1 requires argparse>=1.1, which is not installed.\n",
      "scikit-image 0.14.0 has requirement pillow>=4.3.0, but you'll have pillow 3.0.0 which is incompatible.\n",
      "You are using pip version 10.0.1, however version 19.0.3 is available.\n",
      "You should consider upgrading via the 'python -m pip install --upgrade pip' command.\n",
      "ERROR: To modify pip, please run the following command:\n",
      "C:\\Users\\mmann\\AppData\\Local\\Continuum\\anaconda2\\python.exe -m pip install --upgrade pip\n",
      "You are using pip version 10.0.1, however version 19.0.3 is available.\n",
      "You should consider upgrading via the 'python -m pip install --upgrade pip' command.\n"
     ]
    },
    {
     "name": "stdout",
     "output_type": "stream",
     "text": [
      "Collecting ee\n",
      "  Downloading https://files.pythonhosted.org/packages/d8/94/4188b0670c8da2943cc0325fd60650b319a69f946585337267ff60489286/ee-0.4-py2-none-any.whl\n",
      "Collecting blessed (from ee)\n",
      "  Downloading https://files.pythonhosted.org/packages/3f/96/1915827a8e411613d364dd3a56ef1fbfab84ee878070a69c21b10b5ad1bb/blessed-1.15.0-py2.py3-none-any.whl (60kB)\n",
      "Requirement already satisfied: six>=1.9.0 in c:\\users\\mmann\\appdata\\local\\continuum\\anaconda2\\lib\\site-packages (from blessed->ee) (1.11.0)\n",
      "Requirement already satisfied: wcwidth>=0.1.4 in c:\\users\\mmann\\appdata\\local\\continuum\\anaconda2\\lib\\site-packages (from blessed->ee) (0.1.7)\n",
      "Installing collected packages: blessed, ee\n",
      "Successfully installed blessed-1.15.0 ee-0.4\n"
     ]
    },
    {
     "name": "stderr",
     "output_type": "stream",
     "text": [
      "grin 1.2.1 requires argparse>=1.1, which is not installed.\n",
      "scikit-image 0.14.0 has requirement pillow>=4.3.0, but you'll have pillow 3.0.0 which is incompatible.\n",
      "You are using pip version 10.0.1, however version 19.0.3 is available.\n",
      "You should consider upgrading via the 'python -m pip install --upgrade pip' command.\n"
     ]
    },
    {
     "name": "stdout",
     "output_type": "stream",
     "text": [
      "Collecting fiona\n",
      "  Downloading https://files.pythonhosted.org/packages/41/9d/63696e7b1de42aad294d4781199a408bec593d8fdb80a2b4a788c911a33b/Fiona-1.8.6.tar.gz (1.7MB)\n",
      "    Complete output from command python setup.py egg_info:\n",
      "    A GDAL API version must be specified. Provide a path to gdal-config using a GDAL_CONFIG environment variable or use a GDAL_VERSION environment variable.\n",
      "    \n",
      "    ----------------------------------------\n"
     ]
    },
    {
     "name": "stderr",
     "output_type": "stream",
     "text": [
      "Command \"python setup.py egg_info\" failed with error code 1 in c:\\users\\mmann\\appdata\\local\\temp\\pip-install-snehxk\\fiona\\\n",
      "You are using pip version 10.0.1, however version 19.0.3 is available.\n",
      "You should consider upgrading via the 'python -m pip install --upgrade pip' command.\n"
     ]
    },
    {
     "name": "stdout",
     "output_type": "stream",
     "text": [
      "Collecting Pyshp\n",
      "  Downloading https://files.pythonhosted.org/packages/27/16/3bf15aa864fb77845fab8007eda22c2bd67bd6c1fd13496df452c8c43621/pyshp-2.1.0.tar.gz (215kB)\n",
      "Building wheels for collected packages: Pyshp\n",
      "  Running setup.py bdist_wheel for Pyshp: started\n",
      "  Running setup.py bdist_wheel for Pyshp: finished with status 'done'\n",
      "  Stored in directory: C:\\Users\\mmann\\AppData\\Local\\pip\\Cache\\wheels\\a6\\0c\\de\\321b5192ad416b328975a2f0385f72c64db4656501eba7cc1a\n",
      "Successfully built Pyshp\n",
      "Installing collected packages: Pyshp\n",
      "Successfully installed Pyshp-2.1.0\n"
     ]
    },
    {
     "name": "stderr",
     "output_type": "stream",
     "text": [
      "grin 1.2.1 requires argparse>=1.1, which is not installed.\n",
      "scikit-image 0.14.0 has requirement pillow>=4.3.0, but you'll have pillow 3.0.0 which is incompatible.\n",
      "You are using pip version 10.0.1, however version 19.0.3 is available.\n",
      "You should consider upgrading via the 'python -m pip install --upgrade pip' command.\n"
     ]
    }
   ],
   "source": [
    "#!git clone https://github.com/adbeda/geepy\n",
    "#!cd geepy\n",
    "#!pip install e ./geepy/.\n",
    "#!pip install --upgrade pip\n",
    "#!pip install ee\n",
    "#!pip install fiona\n",
    "#!pip install Pyshp \n"
   ]
  },
  {
   "cell_type": "code",
   "execution_count": 2,
   "metadata": {
    "collapsed": false,
    "deletable": true,
    "editable": true
   },
   "outputs": [
    {
     "ename": "ImportError",
     "evalue": "No module named _curses",
     "output_type": "error",
     "traceback": [
      "\u001b[1;31m---------------------------------------------------------------------------\u001b[0m",
      "\u001b[1;31mImportError\u001b[0m                               Traceback (most recent call last)",
      "\u001b[1;32m<ipython-input-2-b0590819f714>\u001b[0m in \u001b[0;36m<module>\u001b[1;34m()\u001b[0m\n\u001b[0;32m      1\u001b[0m \u001b[1;31m# check if you need to log back in if so, use docks-earthengine/authorize_notebook_server.ipynb\u001b[0m\u001b[1;33m\u001b[0m\u001b[1;33m\u001b[0m\u001b[0m\n\u001b[1;32m----> 2\u001b[1;33m \u001b[1;32mimport\u001b[0m \u001b[0mee\u001b[0m\u001b[1;33m\u001b[0m\u001b[0m\n\u001b[0m\u001b[0;32m      3\u001b[0m \u001b[0mee\u001b[0m\u001b[1;33m.\u001b[0m\u001b[0mInitialize\u001b[0m\u001b[1;33m(\u001b[0m\u001b[1;33m)\u001b[0m\u001b[1;33m\u001b[0m\u001b[0m\n",
      "\u001b[1;32mC:\\Users\\mmann\\AppData\\Local\\Continuum\\anaconda2\\lib\\site-packages\\ee\\__init__.py\u001b[0m in \u001b[0;36m<module>\u001b[1;34m()\u001b[0m\n\u001b[1;32m----> 1\u001b[1;33m \u001b[1;32mfrom\u001b[0m \u001b[1;33m.\u001b[0m\u001b[0mmain\u001b[0m \u001b[1;32mimport\u001b[0m \u001b[0mmain\u001b[0m\u001b[1;33m\u001b[0m\u001b[0m\n\u001b[0m",
      "\u001b[1;32mC:\\Users\\mmann\\AppData\\Local\\Continuum\\anaconda2\\lib\\site-packages\\ee\\main.py\u001b[0m in \u001b[0;36m<module>\u001b[1;34m()\u001b[0m\n\u001b[0;32m      3\u001b[0m \u001b[1;32mimport\u001b[0m \u001b[0msubprocess\u001b[0m\u001b[1;33m\u001b[0m\u001b[0m\n\u001b[0;32m      4\u001b[0m \u001b[1;32mimport\u001b[0m \u001b[0msys\u001b[0m\u001b[1;33m\u001b[0m\u001b[0m\n\u001b[1;32m----> 5\u001b[1;33m \u001b[1;32mimport\u001b[0m \u001b[0mblessed\u001b[0m\u001b[1;33m\u001b[0m\u001b[0m\n\u001b[0m\u001b[0;32m      6\u001b[0m \u001b[1;32mimport\u001b[0m \u001b[0mre\u001b[0m\u001b[1;33m\u001b[0m\u001b[0m\n\u001b[0;32m      7\u001b[0m \u001b[1;32mimport\u001b[0m \u001b[0mos\u001b[0m\u001b[1;33m\u001b[0m\u001b[0m\n",
      "\u001b[1;32mC:\\Users\\mmann\\AppData\\Local\\Continuum\\anaconda2\\lib\\site-packages\\blessed\\__init__.py\u001b[0m in \u001b[0;36m<module>\u001b[1;34m()\u001b[0m\n\u001b[0;32m      8\u001b[0m \u001b[1;33m\u001b[0m\u001b[0m\n\u001b[0;32m      9\u001b[0m \u001b[1;31m# local\u001b[0m\u001b[1;33m\u001b[0m\u001b[1;33m\u001b[0m\u001b[0m\n\u001b[1;32m---> 10\u001b[1;33m \u001b[1;32mfrom\u001b[0m \u001b[0mblessed\u001b[0m\u001b[1;33m.\u001b[0m\u001b[0mterminal\u001b[0m \u001b[1;32mimport\u001b[0m \u001b[0mTerminal\u001b[0m\u001b[1;33m\u001b[0m\u001b[0m\n\u001b[0m\u001b[0;32m     11\u001b[0m \u001b[1;33m\u001b[0m\u001b[0m\n\u001b[0;32m     12\u001b[0m \u001b[1;32mif\u001b[0m \u001b[1;33m(\u001b[0m\u001b[1;34m'3'\u001b[0m\u001b[1;33m,\u001b[0m \u001b[1;34m'0'\u001b[0m\u001b[1;33m,\u001b[0m \u001b[1;34m'0'\u001b[0m\u001b[1;33m)\u001b[0m \u001b[1;33m<=\u001b[0m \u001b[0m_platform\u001b[0m\u001b[1;33m.\u001b[0m\u001b[0mpython_version_tuple\u001b[0m\u001b[1;33m(\u001b[0m\u001b[1;33m)\u001b[0m \u001b[1;33m<\u001b[0m \u001b[1;33m(\u001b[0m\u001b[1;34m'3'\u001b[0m\u001b[1;33m,\u001b[0m \u001b[1;34m'2'\u001b[0m\u001b[1;33m,\u001b[0m \u001b[1;34m'2+'\u001b[0m\u001b[1;33m)\u001b[0m\u001b[1;33m:\u001b[0m\u001b[1;33m\u001b[0m\u001b[0m\n",
      "\u001b[1;32mC:\\Users\\mmann\\AppData\\Local\\Continuum\\anaconda2\\lib\\site-packages\\blessed\\terminal.py\u001b[0m in \u001b[0;36m<module>\u001b[1;34m()\u001b[0m\n\u001b[0;32m      6\u001b[0m \u001b[1;32mimport\u001b[0m \u001b[0mcollections\u001b[0m\u001b[1;33m\u001b[0m\u001b[0m\n\u001b[0;32m      7\u001b[0m \u001b[1;32mimport\u001b[0m \u001b[0mcontextlib\u001b[0m\u001b[1;33m\u001b[0m\u001b[0m\n\u001b[1;32m----> 8\u001b[1;33m \u001b[1;32mimport\u001b[0m \u001b[0mcurses\u001b[0m\u001b[1;33m\u001b[0m\u001b[0m\n\u001b[0m\u001b[0;32m      9\u001b[0m \u001b[1;32mimport\u001b[0m \u001b[0mfunctools\u001b[0m\u001b[1;33m\u001b[0m\u001b[0m\n\u001b[0;32m     10\u001b[0m \u001b[1;32mimport\u001b[0m \u001b[0mio\u001b[0m\u001b[1;33m\u001b[0m\u001b[0m\n",
      "\u001b[1;32mC:\\Users\\mmann\\AppData\\Local\\Continuum\\anaconda2\\lib\\curses\\__init__.py\u001b[0m in \u001b[0;36m<module>\u001b[1;34m()\u001b[0m\n\u001b[0;32m     13\u001b[0m \u001b[0m__revision__\u001b[0m \u001b[1;33m=\u001b[0m \u001b[1;34m\"$Id$\"\u001b[0m\u001b[1;33m\u001b[0m\u001b[0m\n\u001b[0;32m     14\u001b[0m \u001b[1;33m\u001b[0m\u001b[0m\n\u001b[1;32m---> 15\u001b[1;33m \u001b[1;32mfrom\u001b[0m \u001b[0m_curses\u001b[0m \u001b[1;32mimport\u001b[0m \u001b[1;33m*\u001b[0m\u001b[1;33m\u001b[0m\u001b[0m\n\u001b[0m\u001b[0;32m     16\u001b[0m \u001b[1;32mfrom\u001b[0m \u001b[0mcurses\u001b[0m\u001b[1;33m.\u001b[0m\u001b[0mwrapper\u001b[0m \u001b[1;32mimport\u001b[0m \u001b[0mwrapper\u001b[0m\u001b[1;33m\u001b[0m\u001b[0m\n\u001b[0;32m     17\u001b[0m \u001b[1;32mimport\u001b[0m \u001b[0mos\u001b[0m \u001b[1;32mas\u001b[0m \u001b[0m_os\u001b[0m\u001b[1;33m\u001b[0m\u001b[0m\n",
      "\u001b[1;31mImportError\u001b[0m: No module named _curses"
     ]
    }
   ],
   "source": [
    "# check if you need to log back in if so, use docks-earthengine/authorize_notebook_server.ipynb\n",
    "import ee\n",
    "ee.Initialize()\n"
   ]
  },
  {
   "cell_type": "code",
   "execution_count": 14,
   "metadata": {
    "collapsed": false,
    "deletable": true,
    "editable": true
   },
   "outputs": [
    {
     "name": "stdout",
     "output_type": "stream",
     "text": [
      "\n",
      " Total number of bands requested: 13\n",
      "\n",
      "submitted precipitation_20171101 for downloading\n",
      "submitted precipitation_20171106 for downloading\n",
      "submitted precipitation_20171111 for downloading\n",
      "submitted precipitation_20171116 for downloading\n",
      "submitted precipitation_20171121 for downloading\n",
      "submitted precipitation_20171126 for downloading\n",
      "submitted precipitation_20171201 for downloading\n",
      "submitted precipitation_20171206 for downloading\n",
      "submitted precipitation_20171211 for downloading\n",
      "submitted precipitation_20171216 for downloading\n",
      "submitted precipitation_20171221 for downloading\n",
      "submitted precipitation_20171226 for downloading\n",
      "submitted precipitation_20180101 for downloading\n"
     ]
    }
   ],
   "source": [
    "!geepy download-chirps -p 'UCSB-CHG/CHIRPS/PENTAD' -a 'geepy/data/sample.shp' -sd '2017-11-01' -ed '2018-01-05'"
   ]
  },
  {
   "cell_type": "code",
   "execution_count": 16,
   "metadata": {
    "collapsed": false,
    "deletable": true,
    "editable": true
   },
   "outputs": [
    {
     "name": "stdout",
     "output_type": "stream",
     "text": [
      "\n",
      " Total number of bands requested: 13\n",
      "\n",
      "submitted precipitation_20171101 for downloading\n",
      "submitted precipitation_20171106 for downloading\n",
      "submitted precipitation_20171111 for downloading\n",
      "submitted precipitation_20171116 for downloading\n",
      "submitted precipitation_20171121 for downloading\n",
      "submitted precipitation_20171126 for downloading\n",
      "submitted precipitation_20171201 for downloading\n",
      "submitted precipitation_20171206 for downloading\n",
      "submitted precipitation_20171211 for downloading\n",
      "submitted precipitation_20171216 for downloading\n",
      "submitted precipitation_20171221 for downloading\n",
      "submitted precipitation_20171226 for downloading\n",
      "submitted precipitation_20180101 for downloading\n"
     ]
    }
   ],
   "source": [
    "!geepy download-chirps -p 'UCSB-CHG/CHIRPS/PENTAD' -a 'shapes/New_Shapefile.shp' -sd '2017-11-01' -ed '2018-01-05'"
   ]
  }
 ],
 "metadata": {
  "kernelspec": {
   "display_name": "Python 2",
   "language": "python",
   "name": "python2"
  },
  "language_info": {
   "codemirror_mode": {
    "name": "ipython",
    "version": 2
   },
   "file_extension": ".py",
   "mimetype": "text/x-python",
   "name": "python",
   "nbconvert_exporter": "python",
   "pygments_lexer": "ipython2",
   "version": "2.7.12"
  }
 },
 "nbformat": 4,
 "nbformat_minor": 2
}
