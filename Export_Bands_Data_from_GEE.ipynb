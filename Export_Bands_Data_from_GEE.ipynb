{
 "cells": [
  {
   "cell_type": "markdown",
   "metadata": {},
   "source": [
    "## write out 10 bands "
   ]
  },
  {
   "cell_type": "code",
   "execution_count": 1,
   "metadata": {},
   "outputs": [],
   "source": [
    "#https://automating-gis-processes.github.io/CSC18/lessons/L6/raster-mosaic.html\n",
    "import rasterio\n",
    "from rasterio.merge import merge\n",
    "from rasterio.plot import show\n",
    "import glob\n",
    "import os\n",
    "import pandas as pd"
   ]
  },
  {
   "cell_type": "markdown",
   "metadata": {},
   "source": [
    "reproject and change res if needed"
   ]
  },
  {
   "cell_type": "code",
   "execution_count": 2,
   "metadata": {},
   "outputs": [],
   "source": [
    "!rio warp G:\\\\Belize\\\\Precip\\\\_features\\\\extracted_features.tiff \\\n",
    "    G:\\\\Belize\\\\Precip\\\\_features\\\\extracted_features_projected.tif --dst-crs EPSG:4326 --res 0.00022\n"
   ]
  },
  {
   "cell_type": "markdown",
   "metadata": {},
   "source": [
    "Get file names\n"
   ]
  },
  {
   "cell_type": "code",
   "execution_count": 3,
   "metadata": {},
   "outputs": [
    {
     "name": "stdout",
     "output_type": "stream",
     "text": [
      "G:\\Belize\\Precip\\_features\\extra*projected.tif\n"
     ]
    },
    {
     "data": {
      "text/plain": [
       "['G:\\\\Belize\\\\Precip\\\\_features\\\\extracted_features_projected.tif']"
      ]
     },
     "execution_count": 3,
     "metadata": {},
     "output_type": "execute_result"
    }
   ],
   "source": [
    "# File and folder paths\n",
    "#dirpath = r\"../Data/GEE/\"\n",
    "dirpath = r\"G:\\Belize\\Precip\\_features\"\n",
    "  \n",
    "# Make a search criteria to select the DEM files\n",
    "#search_criteria = \"MDS_mos*.tif\"\n",
    "search_criteria = \"extra*projected.tif\"\n",
    "\n",
    "q = os.path.join(dirpath, search_criteria)\n",
    "\n",
    "print(q)\n",
    "\n",
    "\n",
    "GEE = glob.glob(q)\n",
    "GEE"
   ]
  },
  {
   "cell_type": "markdown",
   "metadata": {},
   "source": [
    "Empty list for the datafiles that will be part of the mosaic. "
   ]
  },
  {
   "cell_type": "markdown",
   "metadata": {},
   "source": [
    "open all those files in read mode with raterio and add those files into a our source file list"
   ]
  },
  {
   "cell_type": "code",
   "execution_count": 4,
   "metadata": {},
   "outputs": [],
   "source": [
    "src_files_to_mosaic = []\n",
    "\n",
    "for fp in GEE:\n",
    "    src = rasterio.open(fp)\n",
    "    src_files_to_mosaic.append(src)\n",
    " "
   ]
  },
  {
   "cell_type": "code",
   "execution_count": 5,
   "metadata": {},
   "outputs": [
    {
     "data": {
      "text/plain": [
       "(1,\n",
       " 2,\n",
       " 3,\n",
       " 4,\n",
       " 5,\n",
       " 6,\n",
       " 7,\n",
       " 8,\n",
       " 9,\n",
       " 10,\n",
       " 11,\n",
       " 12,\n",
       " 13,\n",
       " 14,\n",
       " 15,\n",
       " 16,\n",
       " 17,\n",
       " 18,\n",
       " 19,\n",
       " 20,\n",
       " 21,\n",
       " 22,\n",
       " 23)"
      ]
     },
     "execution_count": 5,
     "metadata": {},
     "output_type": "execute_result"
    }
   ],
   "source": [
    "src_files_to_mosaic[0].indexes"
   ]
  },
  {
   "cell_type": "code",
   "execution_count": 6,
   "metadata": {},
   "outputs": [
    {
     "data": {
      "text/plain": [
       "{'driver': 'GTiff',\n",
       " 'dtype': 'float32',\n",
       " 'nodata': -9999.0,\n",
       " 'width': 8182,\n",
       " 'height': 12046,\n",
       " 'count': 23,\n",
       " 'crs': CRS({'init': 'epsg:4326'}),\n",
       " 'transform': Affine(0.00022, 0.0, -89.24999864771962,\n",
       "        0.0, -0.00022, 18.499999530613422)}"
      ]
     },
     "execution_count": 6,
     "metadata": {},
     "output_type": "execute_result"
    }
   ],
   "source": [
    "# Copy the metadata\n",
    "out_meta = src.meta.copy()\n",
    "\n",
    "out_meta"
   ]
  },
  {
   "cell_type": "markdown",
   "metadata": {},
   "source": [
    "create clean output names"
   ]
  },
  {
   "cell_type": "code",
   "execution_count": 7,
   "metadata": {},
   "outputs": [],
   "source": [
    "feature_names = pd.read_csv(os.path.join(dirpath,'features_names.csv'))\n",
    "feature_names.head()\n",
    "\n",
    "def clean_name(band_num):\n",
    "    name = feature_names[feature_names.band==band_num].feature_name.tolist()[0]\n",
    "    return name.replace('\"', '')"
   ]
  },
  {
   "cell_type": "markdown",
   "metadata": {},
   "source": [
    "Merge those together band by band and create a mosaic with rasterio’s merge function."
   ]
  },
  {
   "cell_type": "code",
   "execution_count": 8,
   "metadata": {},
   "outputs": [
    {
     "name": "stdout",
     "output_type": "stream",
     "text": [
      "working on band1\n",
      "working on band2\n",
      "working on band3\n",
      "working on band4\n",
      "working on band5\n",
      "working on band6\n",
      "working on band7\n",
      "working on band8\n",
      "working on band9\n",
      "working on band10\n",
      "working on band11\n",
      "working on band12\n",
      "working on band13\n",
      "working on band14\n",
      "working on band15\n",
      "working on band16\n",
      "working on band17\n",
      "working on band18\n",
      "working on band19\n",
      "working on band20\n",
      "working on band21\n",
      "working on band22\n",
      "working on band23\n"
     ]
    }
   ],
   "source": [
    "# iterate through bands and write to file \n",
    "for band in list(src_files_to_mosaic[0].indexes):\n",
    "    print('working on band'+str(band))\n",
    "    \n",
    "    # mosaic tiles \n",
    "    mosaic, out_trans = merge(src_files_to_mosaic,indexes=band)\n",
    "    \n",
    "    # Update the metadata\n",
    "    out_meta.update({\"driver\": \"GTiff\",\n",
    "                  \"height\": mosaic.shape[1],\n",
    "                  \"width\": mosaic.shape[2],\n",
    "                  'count': 1,\n",
    "                  \"transform\": out_trans \n",
    "                  }  )\n",
    "    \n",
    "    # set destination\n",
    "    out_fp = os.path.join(dirpath, clean_name(band_num=band)+\".tif\")\n",
    "    \n",
    "    # write \n",
    "    with rasterio.open(out_fp, \"w\", **out_meta) as dest:\n",
    "         dest.write(mosaic)"
   ]
  },
  {
   "cell_type": "code",
   "execution_count": 9,
   "metadata": {},
   "outputs": [
    {
     "data": {
      "image/png": "[encoded data removed]",
      "text/plain": [
       "<Figure size 432x288 with 1 Axes>"
      ]
     },
     "metadata": {
      "needs_background": "light"
     },
     "output_type": "display_data"
    },
    {
     "data": {
      "text/plain": [
       "<matplotlib.axes._subplots.AxesSubplot at 0x2a1dbee0ef0>"
      ]
     },
     "execution_count": 9,
     "metadata": {},
     "output_type": "execute_result"
    }
   ],
   "source": [
    "%matplotlib inline\n",
    "show(mosaic, cmap='terrain')"
   ]
  }
 ],
 "metadata": {
  "kernelspec": {
   "display_name": "Python [conda env:ts-rasterv2]",
   "language": "python",
   "name": "conda-env-ts-rasterv2-py"
  },
  "language_info": {
   "codemirror_mode": {
    "name": "ipython",
    "version": 3
   },
   "file_extension": ".py",
   "mimetype": "text/x-python",
   "name": "python",
   "nbconvert_exporter": "python",
   "pygments_lexer": "ipython3",
   "version": "3.6.7"
  }
 },
 "nbformat": 4,
 "nbformat_minor": 2
}
